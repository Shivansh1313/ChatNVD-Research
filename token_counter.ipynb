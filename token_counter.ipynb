{
 "cells": [
  {
   "cell_type": "code",
   "execution_count": 2,
   "metadata": {},
   "outputs": [
    {
     "ename": "ModuleNotFoundError",
     "evalue": "No module named 'tiktoken'",
     "output_type": "error",
     "traceback": [
      "\u001b[0;31m---------------------------------------------------------------------------\u001b[0m",
      "\u001b[0;31mModuleNotFoundError\u001b[0m                       Traceback (most recent call last)",
      "Cell \u001b[0;32mIn[2], line 2\u001b[0m\n\u001b[1;32m      1\u001b[0m \u001b[38;5;28;01mimport\u001b[39;00m \u001b[38;5;21;01mjson\u001b[39;00m\n\u001b[0;32m----> 2\u001b[0m \u001b[38;5;28;01mimport\u001b[39;00m \u001b[38;5;21;01mtiktoken\u001b[39;00m\n\u001b[1;32m      4\u001b[0m \u001b[38;5;66;03m# def count_tokens(text, model_name='gpt-3.5-turbo'):\u001b[39;00m\n\u001b[1;32m      5\u001b[0m \u001b[38;5;66;03m#     # initialize the tiktoken encoder\u001b[39;00m\n\u001b[1;32m      6\u001b[0m \u001b[38;5;66;03m#     encoder = tiktoken.get_encoding(model_name)\u001b[39;00m\n\u001b[0;32m   (...)\u001b[0m\n\u001b[1;32m     59\u001b[0m \u001b[38;5;66;03m# # print the token count\u001b[39;00m\n\u001b[1;32m     60\u001b[0m \u001b[38;5;66;03m# print(f'{file_name}: {token_count} tokens')\u001b[39;00m\n",
      "\u001b[0;31mModuleNotFoundError\u001b[0m: No module named 'tiktoken'"
     ]
    }
   ],
   "source": [
    "import json\n",
    "import tiktoken\n",
    "\n",
    "def count_tokens(text, model_name='gpt-3.5-turbo'):\n",
    "    # initialize the tiktoken encoder\n",
    "    encoder = tiktoken.get_encoding(model_name)\n",
    "    # encode the text and count the number of tokens\n",
    "    tokens = encoder.encode(text)\n",
    "    return len(tokens)\n",
    "\n",
    "def process_json_file(file_path, model_name='gpt-3.5-turbo'):\n",
    "    # read the json file\n",
    "    with open(file_path, 'r') as file:\n",
    "        data = json.load(file)\n",
    "        # convert the json content to a string\n",
    "        if isinstance(data, dict):\n",
    "            text = json.dumps(data)\n",
    "        else:\n",
    "            text = str(data)\n",
    "        \n",
    "        # count the tokens in the text\n",
    "        token_count = count_tokens(text, model_name)\n",
    "    \n",
    "    return token_count\n",
    "\n",
    "# specify the json file name\n",
    "file_name = 'nvdcve-1.1-2024_updated.json'\n",
    "\n",
    "# get the token count for the json file\n",
    "token_count = process_json_file(file_name)\n",
    "\n",
    "# print the token count\n",
    "print(f'{file_name}: {token_count} tokens')\n",
    "\n",
    "# specify the json file name\n",
    "file_name = 'nvdcve-1.1-2024_updated.json'\n",
    "\n",
    "# get the token count for the json file\n",
    "token_count = process_json_file(file_name)\n",
    "\n",
    "# print the token count\n",
    "print(f'{file_name}: {token_count} tokens')\n",
    "\n",
    "# specify the json file name\n",
    "file_name = 'nvdcve-1.1-2024_updated.json'\n",
    "\n",
    "# get the token count for the json file\n",
    "token_count = process_json_file(file_name)\n",
    "\n",
    "# print the token count\n",
    "print(f'{file_name}: {token_count} tokens')\n",
    "\n",
    "# specify the json file name\n",
    "file_name = 'nvdcve-1.1-2024_updated.json'\n",
    "\n",
    "# get the token count for the json file\n",
    "token_count = process_json_file(file_name)\n",
    "\n",
    "# print the token count\n",
    "print(f'{file_name}: {token_count} tokens')\n"
   ]
  }
 ],
 "metadata": {
  "kernelspec": {
   "display_name": "env",
   "language": "python",
   "name": "python3"
  },
  "language_info": {
   "codemirror_mode": {
    "name": "ipython",
    "version": 3
   },
   "file_extension": ".py",
   "mimetype": "text/x-python",
   "name": "python",
   "nbconvert_exporter": "python",
   "pygments_lexer": "ipython3",
   "version": "3.12.4"
  }
 },
 "nbformat": 4,
 "nbformat_minor": 2
}
